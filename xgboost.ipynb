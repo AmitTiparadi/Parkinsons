{
 "cells": [
  {
   "cell_type": "code",
   "execution_count": 24,
   "id": "72f35866",
   "metadata": {},
   "outputs": [],
   "source": [
    "import pandas as pd\n",
    "from sklearn.model_selection import train_test_split, GridSearchCV\n",
    "from sklearn.preprocessing import StandardScaler\n",
    "from sklearn.metrics import classification_report, confusion_matrix, mean_squared_error\n",
    "import xgboost as xgb"
   ]
  },
  {
   "cell_type": "code",
   "execution_count": 25,
   "id": "9eed3f45",
   "metadata": {},
   "outputs": [
    {
     "name": "stderr",
     "output_type": "stream",
     "text": [
      "c:\\Users\\ROG\\AppData\\Local\\Programs\\Python\\Python312\\Lib\\site-packages\\xgboost\\core.py:158: UserWarning: [12:03:35] WARNING: C:\\buildkite-agent\\builds\\buildkite-windows-cpu-autoscaling-group-i-08cbc0333d8d4aae1-1\\xgboost\\xgboost-ci-windows\\src\\learner.cc:740: \n",
      "Parameters: { \"use_label_encoder\" } are not used.\n",
      "\n",
      "  warnings.warn(smsg, UserWarning)\n"
     ]
    },
    {
     "name": "stdout",
     "output_type": "stream",
     "text": [
      "Classification Report:\n",
      "               precision    recall  f1-score   support\n",
      "\n",
      "           0       0.78      0.64      0.70        39\n",
      "           1       0.88      0.94      0.91       113\n",
      "\n",
      "    accuracy                           0.86       152\n",
      "   macro avg       0.83      0.79      0.81       152\n",
      "weighted avg       0.86      0.86      0.86       152\n",
      "\n",
      "\n",
      "Confusion Matrix:\n",
      "[[ 25  14]\n",
      " [  7 106]]\n"
     ]
    }
   ],
   "source": [
    "#  Load dataset\n",
    "df = pd.read_csv(r\"C:\\Users\\ROG\\OneDrive\\Documents\\DeskDump\\Python\\Parkinsons\\pd_speech_features.csv\")\n",
    "\n",
    "\n",
    "# Drop ID column and separate features/target\n",
    "X = df.drop(columns=['id', 'class'])\n",
    "y = df['class']\n",
    "\n",
    "# Standardize features\n",
    "scaler = StandardScaler()\n",
    "X_scaled = scaler.fit_transform(X)\n",
    "\n",
    "# Train-test split with stratification\n",
    "X_train, X_test, y_train, y_test = train_test_split(\n",
    "    X_scaled, y, test_size=0.2, random_state=42, stratify=y\n",
    ")\n",
    "\n",
    "# Train XGBoost model\n",
    "model = xgb.XGBClassifier(use_label_encoder=False, eval_metric='logloss', random_state=42)\n",
    "model.fit(X_train, y_train)\n",
    "\n",
    "# Predictions and evaluation\n",
    "y_pred = model.predict(X_test)\n",
    "print(\"Classification Report:\\n\", classification_report(y_test, y_pred))\n",
    "\n",
    "print(\"\\nConfusion Matrix:\")\n",
    "print(confusion_matrix(y_test, y_pred))\n"
   ]
  },
  {
   "cell_type": "code",
   "execution_count": 26,
   "id": "dcabb9a4",
   "metadata": {},
   "outputs": [
    {
     "name": "stdout",
     "output_type": "stream",
     "text": [
      "0.13815789473684212\n"
     ]
    }
   ],
   "source": [
    "mse_xgb = mean_squared_error(y_test,y_pred)\n",
    "print(mse_xgb)"
   ]
  },
  {
   "cell_type": "code",
   "execution_count": 27,
   "id": "28669d92",
   "metadata": {},
   "outputs": [
    {
     "data": {
      "text/plain": [
       "class\n",
       "1    451\n",
       "0    153\n",
       "Name: count, dtype: int64"
      ]
     },
     "execution_count": 27,
     "metadata": {},
     "output_type": "execute_result"
    }
   ],
   "source": [
    "y_train.value_counts()\n"
   ]
  },
  {
   "cell_type": "code",
   "execution_count": 28,
   "id": "2f682e83",
   "metadata": {},
   "outputs": [
    {
     "name": "stdout",
     "output_type": "stream",
     "text": [
      "\n",
      "Resampled class distribution:\n",
      "class\n",
      "1    451\n",
      "0    451\n",
      "Name: count, dtype: int64\n"
     ]
    }
   ],
   "source": [
    "from imblearn.over_sampling import SMOTE\n",
    "smote = SMOTE(random_state=42)\n",
    "X_train_resampled, y_train_resampled = smote.fit_resample(X_train, y_train)\n",
    "# Check resampled class distribution\n",
    "print(\"\\nResampled class distribution:\")\n",
    "print(pd.Series(y_train_resampled).value_counts())"
   ]
  },
  {
   "cell_type": "code",
   "execution_count": 29,
   "id": "2a91d8d1",
   "metadata": {},
   "outputs": [
    {
     "name": "stderr",
     "output_type": "stream",
     "text": [
      "c:\\Users\\ROG\\AppData\\Local\\Programs\\Python\\Python312\\Lib\\site-packages\\xgboost\\core.py:158: UserWarning: [12:03:36] WARNING: C:\\buildkite-agent\\builds\\buildkite-windows-cpu-autoscaling-group-i-08cbc0333d8d4aae1-1\\xgboost\\xgboost-ci-windows\\src\\learner.cc:740: \n",
      "Parameters: { \"use_label_encoder\" } are not used.\n",
      "\n",
      "  warnings.warn(smsg, UserWarning)\n"
     ]
    },
    {
     "name": "stdout",
     "output_type": "stream",
     "text": [
      "Classification Report:\n",
      "               precision    recall  f1-score   support\n",
      "\n",
      "           0       0.76      0.67      0.71        39\n",
      "           1       0.89      0.93      0.91       113\n",
      "\n",
      "    accuracy                           0.86       152\n",
      "   macro avg       0.83      0.80      0.81       152\n",
      "weighted avg       0.86      0.86      0.86       152\n",
      "\n",
      "\n",
      "Confusion Matrix:\n",
      "[[ 26  13]\n",
      " [  8 105]]\n"
     ]
    }
   ],
   "source": [
    "model.fit(X_train_resampled, y_train_resampled)\n",
    "\n",
    "# Predictions and evaluation\n",
    "y_pred = model.predict(X_test)\n",
    "print(\"Classification Report:\\n\", classification_report(y_test, y_pred))\n",
    "\n",
    "print(\"\\nConfusion Matrix:\")\n",
    "print(confusion_matrix(y_test, y_pred))\n"
   ]
  },
  {
   "cell_type": "code",
   "execution_count": 34,
   "id": "94bc2d70",
   "metadata": {},
   "outputs": [
    {
     "name": "stdout",
     "output_type": "stream",
     "text": [
      "Fitting 10 folds for each of 20 candidates, totalling 200 fits\n"
     ]
    },
    {
     "name": "stderr",
     "output_type": "stream",
     "text": [
      "c:\\Users\\ROG\\AppData\\Local\\Programs\\Python\\Python312\\Lib\\site-packages\\xgboost\\core.py:158: UserWarning: [12:36:06] WARNING: C:\\buildkite-agent\\builds\\buildkite-windows-cpu-autoscaling-group-i-08cbc0333d8d4aae1-1\\xgboost\\xgboost-ci-windows\\src\\learner.cc:740: \n",
      "Parameters: { \"use_label_encoder\" } are not used.\n",
      "\n",
      "  warnings.warn(smsg, UserWarning)\n"
     ]
    },
    {
     "name": "stdout",
     "output_type": "stream",
     "text": [
      "Best score: 0.9686220588581957\n",
      "Best parameters: {'n_estimators': 300, 'max_depth': 3, 'learning_rate': 0.1, 'lambda': 1, 'gamma': 0}\n"
     ]
    }
   ],
   "source": [
    "# from sklearn.ensemble import RandomForestRegressor,GradientBoostingRegressor\n",
    "# param_grid_xgb = {\n",
    "#     'lambda': [0.01, 0.1, 1, 10],\n",
    "#     'gamma': [0, 0.1, 1, 10],\n",
    "#     'max_depth': [3, 5, 7],\n",
    "#     'learning_rate': [0.01, 0.1, 0.2],\n",
    "#     'n_estimators': [100, 200, 300]\n",
    "# }\n",
    "\n",
    "# # GridSearchCV for XGBRegressor (regression task => no accuracy score!)\n",
    "# grid_search = GridSearchCV(\n",
    "#     estimator=xgb.XGBRegressor(objective='reg:squarederror', random_state=42),\n",
    "#     param_grid=param_grid_xgb,\n",
    "#     scoring='neg_mean_squared_error',  # Use appropriate regression metric\n",
    "#     cv=10,\n",
    "#     n_jobs=-1\n",
    "# )\n",
    "\n",
    "# from sklearn.model_selection import GridSearchCV\n",
    "\n",
    "# param_grid_xgb = {\n",
    "#     'lambda': [0.01, 0.1, 1, 10],\n",
    "#     'gamma': [0, 0.1, 1, 10],\n",
    "#     'max_depth': [3, 5, 7],\n",
    "#     'learning_rate': [0.01, 0.1, 0.2],\n",
    "#     'n_estimators': [100, 200, 300]\n",
    "# }\n",
    "\n",
    "# xgb_reg = xgb.XGBRegressor(\n",
    "#     objective='reg:squarederror',\n",
    "#     tree_method='gpu_hist',        # Enable GPU acceleration\n",
    "#     predictor='gpu_predictor',     # Optional: speeds up prediction too\n",
    "#     random_state=42\n",
    "# )\n",
    "\n",
    "# grid_search = GridSearchCV(\n",
    "#     estimator=xgb_reg,\n",
    "#     param_grid=param_grid_xgb,\n",
    "#     scoring='neg_mean_squared_error',\n",
    "#     cv=10,\n",
    "#     n_jobs=-1,\n",
    "#     verbose=2                        # Optional: shows progress\n",
    "# )\n",
    "\n",
    "from sklearn.model_selection import RandomizedSearchCV\n",
    "\n",
    "# Define parameter distribution\n",
    "param_dist_xgb = {\n",
    "    'lambda': [0.01, 0.1, 1, 10],\n",
    "    'gamma': [0, 0.1, 1, 10],\n",
    "    'max_depth': [3, 5, 7],\n",
    "    'learning_rate': [0.01, 0.1, 0.2],\n",
    "    'n_estimators': [100, 200, 300]\n",
    "}\n",
    "\n",
    "# Randomized search using XGBClassifier\n",
    "random_search = RandomizedSearchCV(\n",
    "    estimator=xgb.XGBClassifier(\n",
    "        objective='binary:logistic',       # Use 'multi:softprob' for multi-class\n",
    "        use_label_encoder=False,\n",
    "        eval_metric='logloss',\n",
    "        random_state=42\n",
    "    ),\n",
    "    param_distributions=param_dist_xgb,\n",
    "    n_iter=20,                 # You can reduce this for faster results\n",
    "    scoring='f1',              # Or 'accuracy', 'roc_auc', etc., depending on your goal\n",
    "    cv=10,\n",
    "    n_jobs=-1,\n",
    "    verbose=1\n",
    ")\n",
    "\n",
    "# Fit the search on training data\n",
    "random_result = random_search.fit(X_train_resampled, y_train_resampled)\n",
    "\n",
    "# Display best score and parameters\n",
    "print(f\"Best score: {random_result.best_score_}\")\n",
    "print(f\"Best parameters: {random_result.best_params_}\")\n"
   ]
  },
  {
   "cell_type": "code",
   "execution_count": 35,
   "id": "00afc3a4",
   "metadata": {},
   "outputs": [
    {
     "name": "stdout",
     "output_type": "stream",
     "text": [
      "Classification Report:\n",
      "               precision    recall  f1-score   support\n",
      "\n",
      "           0       0.72      0.74      0.73        39\n",
      "           1       0.91      0.90      0.91       113\n",
      "\n",
      "    accuracy                           0.86       152\n",
      "   macro avg       0.82      0.82      0.82       152\n",
      "weighted avg       0.86      0.86      0.86       152\n",
      "\n"
     ]
    }
   ],
   "source": [
    "# # Fit on training data (use x_train, y_train instead of full x and y)\n",
    "# grid_result = grid_search.fit(X_train, y_train)\n",
    "\n",
    "# # Display the best parameters and the (negative) MSE score\n",
    "# print(f\"Best MSE (negative): {grid_result.best_score_}\")\n",
    "# print(f\"Best parameters: {grid_result.best_params_}\")\n",
    "best_model = random_search.best_estimator_\n",
    "y_pred = best_model.predict(X_test)\n",
    "print(\"Classification Report:\\n\", classification_report(y_test, y_pred))"
   ]
  },
  {
   "cell_type": "code",
   "execution_count": 36,
   "id": "791c2271",
   "metadata": {},
   "outputs": [
    {
     "name": "stdout",
     "output_type": "stream",
     "text": [
      "Model saved as 'xgb_parkinson_model.pkl'\n"
     ]
    }
   ],
   "source": [
    "import joblib\n",
    "\n",
    "# Save the best model to a file\n",
    "joblib.dump(best_model, 'xgb_parkinson_model.pkl')\n",
    "print(\"Model saved as 'xgb_parkinson_model.pkl'\")"
   ]
  },
  {
   "cell_type": "code",
   "execution_count": null,
   "id": "a434e2ae",
   "metadata": {},
   "outputs": [],
   "source": [
    "# Load the saved model\n",
    "loaded_model = joblib.load('xgb_parkinson_model.pkl')\n",
    "\n",
    "# Use it to predict\n",
    "y_pred = loaded_model.predict(X_test)\n"
   ]
  }
 ],
 "metadata": {
  "kernelspec": {
   "display_name": "Python 3",
   "language": "python",
   "name": "python3"
  },
  "language_info": {
   "codemirror_mode": {
    "name": "ipython",
    "version": 3
   },
   "file_extension": ".py",
   "mimetype": "text/x-python",
   "name": "python",
   "nbconvert_exporter": "python",
   "pygments_lexer": "ipython3",
   "version": "3.12.6"
  }
 },
 "nbformat": 4,
 "nbformat_minor": 5
}
